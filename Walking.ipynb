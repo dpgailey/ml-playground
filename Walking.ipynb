{
 "cells": [
  {
   "cell_type": "code",
   "execution_count": 113,
   "metadata": {
    "collapsed": false
   },
   "outputs": [],
   "source": [
    "import numpy as np"
   ]
  },
  {
   "cell_type": "code",
   "execution_count": 114,
   "metadata": {
    "collapsed": false
   },
   "outputs": [
    {
     "name": "stdout",
     "output_type": "stream",
     "text": [
      "(480, 7)\n",
      "(480, 7)\n",
      "shape of data (960, 6)\n",
      "shape of labels (960, 1)\n"
     ]
    }
   ],
   "source": [
    "from numpy import genfromtxt\n",
    "#senor data of walking \n",
    "walking = genfromtxt('walking_dataset1.csv', delimiter=',')\n",
    "#senor data of standing\n",
    "standing=genfromtxt('standing_dataset1.csv', delimiter=',')\n",
    "\n",
    "print(walking.shape)\n",
    "print(standing.shape)\n",
    "\n",
    "#assinging a label of 1 to walking\n",
    "wl=np.ones((len(walking),1))\n",
    "\n",
    "#assinging a label of 0 to standing\n",
    "sl=np.zeros((len(walking),1))\n",
    "\n",
    "#concatenating walking and standing data into a single array\n",
    "data=np.vstack((walking[:,1:],standing[:,1:]))\n",
    "print('shape of data',data.shape)\n",
    "#concatenating walking and standing lables into a single array\n",
    "labels=np.vstack((wl,sl))\n",
    "print('shape of labels',labels.shape)\n",
    "\n",
    "\n"
   ]
  },
  {
   "cell_type": "code",
   "execution_count": 115,
   "metadata": {
    "collapsed": false
   },
   "outputs": [
    {
     "name": "stderr",
     "output_type": "stream",
     "text": [
      "/home/niranjan/anaconda3/lib/python3.5/site-packages/sklearn/svm/base.py:514: DataConversionWarning: A column-vector y was passed when a 1d array was expected. Please change the shape of y to (n_samples, ), for example using ravel().\n",
      "  y_ = column_or_1d(y, warn=True)\n"
     ]
    },
    {
     "data": {
      "text/plain": [
       "SVC(C=1.0, cache_size=200, class_weight=None, coef0=0.0,\n",
       "  decision_function_shape=None, degree=3, gamma='auto', kernel='rbf',\n",
       "  max_iter=-1, probability=False, random_state=None, shrinking=True,\n",
       "  tol=0.001, verbose=False)"
      ]
     },
     "execution_count": 115,
     "metadata": {},
     "output_type": "execute_result"
    }
   ],
   "source": [
    "#importing a support vector machine form sklearn\n",
    "from sklearn import svm\n",
    "clf = svm.SVC()\n",
    "#training support vector machine on the data\n",
    "clf.fit(data, labels)  "
   ]
  },
  {
   "cell_type": "code",
   "execution_count": 118,
   "metadata": {
    "collapsed": false
   },
   "outputs": [
    {
     "name": "stdout",
     "output_type": "stream",
     "text": [
      "walking_accuracy= 99.7916666667\n"
     ]
    }
   ],
   "source": [
    "#importing new and unseen data for walking\n",
    "walking2 = genfromtxt('walking_dataset2.csv', delimiter=',')\n",
    "#predicting labels of a unseen data using already trained support vector machine\n",
    "walking_accuracy=np.sum(clf.predict(walking2[:,1:]))/len(walking2)\n",
    "print('walking_accuracy=',walking_accuracy*100)"
   ]
  },
  {
   "cell_type": "code",
   "execution_count": 119,
   "metadata": {
    "collapsed": false
   },
   "outputs": [
    {
     "name": "stdout",
     "output_type": "stream",
     "text": [
      "standing_accuracy= 89.7916666667\n"
     ]
    }
   ],
   "source": [
    "#importing new and unseen data for standing\n",
    "standing2 = genfromtxt('standing_dataset2.csv', delimiter=',')\n",
    "#predicting labels of a unseen data using already trained support vector machine\n",
    "standing_accuaracy=1-np.sum(clf.predict(standing2[:,1:]))/len(standing2)\n",
    "print('standing_accuracy=',standing_accuaracy*100)"
   ]
  },
  {
   "cell_type": "code",
   "execution_count": null,
   "metadata": {
    "collapsed": true
   },
   "outputs": [],
   "source": []
  }
 ],
 "metadata": {
  "anaconda-cloud": {},
  "kernelspec": {
   "display_name": "Python [default]",
   "language": "python",
   "name": "python3"
  },
  "language_info": {
   "codemirror_mode": {
    "name": "ipython",
    "version": 3
   },
   "file_extension": ".py",
   "mimetype": "text/x-python",
   "name": "python",
   "nbconvert_exporter": "python",
   "pygments_lexer": "ipython3",
   "version": "3.5.2"
  }
 },
 "nbformat": 4,
 "nbformat_minor": 1
}
